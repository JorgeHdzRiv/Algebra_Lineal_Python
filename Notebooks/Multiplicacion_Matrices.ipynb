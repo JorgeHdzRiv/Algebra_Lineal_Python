{
 "cells": [
  {
   "cell_type": "markdown",
   "metadata": {},
   "source": [
    "# Propiedades de la multiplicacion de matrices\n",
    "\n",
    "![](../img/p1.PNG)\n",
    "\n",
    "![](../img/p2.PNG)\n",
    "\n",
    "![](../img/p3.PNG)\n"
   ]
  },
  {
   "cell_type": "markdown",
   "metadata": {},
   "source": [
    "**La multiplicacion solo se podra hacer si:**\n",
    "\n",
    "![](../img/p4.PNG)\n"
   ]
  },
  {
   "cell_type": "markdown",
   "metadata": {},
   "source": [
    "![](../img/p5.PNG)\n",
    "\n",
    "![](../img/p6.PNG)"
   ]
  },
  {
   "cell_type": "markdown",
   "metadata": {},
   "source": [
    "## Ejemplo de producto de matrices\n",
    "\n",
    "![](../img/p7.PNG)\n",
    "\n",
    "![](../img/p8.PNG)"
   ]
  },
  {
   "cell_type": "code",
   "execution_count": 4,
   "metadata": {},
   "outputs": [],
   "source": [
    "import numpy as np"
   ]
  },
  {
   "cell_type": "code",
   "execution_count": 6,
   "metadata": {},
   "outputs": [
    {
     "name": "stdout",
     "output_type": "stream",
     "text": [
      "[[ 2  1 -6]\n",
      " [ 1 -3  2]]\n",
      "\n",
      "[[ 1  0 -3]\n",
      " [ 0  4  2]\n",
      " [-2  1  1]]\n"
     ]
    }
   ],
   "source": [
    "A = np.array([[2,1,-6],[1,-3,2]])\n",
    "B = np.array([[1,0,-3],[0,4,2],[-2,1,1]])\n",
    "\n",
    "print(A)\n",
    "print(\"\")\n",
    "print(B)"
   ]
  },
  {
   "cell_type": "markdown",
   "metadata": {},
   "source": [
    "**Ejemplo de un elemento de C**\n",
    "\n",
    "![](../img/p9.PNG)"
   ]
  },
  {
   "cell_type": "code",
   "execution_count": null,
   "metadata": {},
   "outputs": [],
   "source": [
    "def producto_matrices(A, B):\n",
    "    filas_a = len(A)\n",
    "    filas_b = len(B)\n",
    "    columnas_a = len(A[0])\n",
    "    columnas_b = len(B[0])\n",
    "    if columnas_a != filas_b:\n",
    "        return None\n",
    "    # Asignar espacio al producto. Es decir, rellenar con \"espacios vacíos\"\n",
    "    producto = []\n",
    "    for i in range(filas_b):\n",
    "        producto.append([])\n",
    "        for j in range(columnas_b):\n",
    "            producto[i].append(None)\n",
    "    # Rellenar el producto\n",
    "    for c in range(columnas_b):\n",
    "        for i in range(filas_a):\n",
    "            suma = 0\n",
    "            for j in range(columnas_a):\n",
    "                suma += A[i][j]*B[j][c]\n",
    "            producto[i][c] = suma\n",
    "    return producto"
   ]
  },
  {
   "cell_type": "markdown",
   "metadata": {},
   "source": [
    "## Resultado final\n",
    "\n",
    "![](../img/p10.PNG)"
   ]
  },
  {
   "cell_type": "code",
   "execution_count": 14,
   "metadata": {},
   "outputs": [
    {
     "data": {
      "text/plain": [
       "array([[ 14,  -2, -10],\n",
       "       [ -3, -10,  -7]])"
      ]
     },
     "execution_count": 14,
     "metadata": {},
     "output_type": "execute_result"
    }
   ],
   "source": [
    "C = np.dot(A,B)\n",
    "\n",
    "C"
   ]
  }
 ],
 "metadata": {
  "kernelspec": {
   "display_name": "Python 3.9.13 64-bit (microsoft store)",
   "language": "python",
   "name": "python3"
  },
  "language_info": {
   "codemirror_mode": {
    "name": "ipython",
    "version": 3
   },
   "file_extension": ".py",
   "mimetype": "text/x-python",
   "name": "python",
   "nbconvert_exporter": "python",
   "pygments_lexer": "ipython3",
   "version": "3.9.13"
  },
  "orig_nbformat": 4,
  "vscode": {
   "interpreter": {
    "hash": "73116b792d4e7f4a2d42e6a2717bd01a40aff5b07001f93bde2c6f305f64c978"
   }
  }
 },
 "nbformat": 4,
 "nbformat_minor": 2
}
