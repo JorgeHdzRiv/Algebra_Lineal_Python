{
 "cells": [
  {
   "cell_type": "markdown",
   "metadata": {},
   "source": [
    "# Inversa de una matriz\n",
    "\n",
    "Para este metodo tenemos que tener en cuenta dos factores:\n",
    "\n",
    "## Eliminacion Gauss-Jordan\n",
    "\n",
    "El método de eliminación de Gauss-Jordan consiste en obtener la matriz identidad que contiene la solución de las ecuaciones lineales, mediante las operaciones elementales por renglones.\n",
    "\n",
    "## Operaciones elementales entre renglones\n",
    "\n",
    "• Multiplicar (o dividir) un renglón por un número constante diferente de cero.\n",
    "\n",
    "• Sumar un múltiplo de un renglón a otro renglón.\n",
    "\n",
    "• Intercambiar dos renglones.\n",
    "\n",
    "\n",
    "\n",
    "A la aplicación de estas operaciones se le conoce como reducción por renglones.\n",
    "\n"
   ]
  },
  {
   "cell_type": "markdown",
   "metadata": {},
   "source": [
    "## Ejemplo\n",
    "\n",
    "![](../img/i1.PNG)\n",
    "\n",
    "\n"
   ]
  },
  {
   "cell_type": "code",
   "execution_count": 1,
   "metadata": {},
   "outputs": [
    {
     "data": {
      "text/plain": [
       "array([[ 0,  1,  3],\n",
       "       [ 3,  4, -2],\n",
       "       [-1,  5,  8]])"
      ]
     },
     "execution_count": 1,
     "metadata": {},
     "output_type": "execute_result"
    }
   ],
   "source": [
    "import numpy as np\n",
    "\n",
    "A = np.array([[0,1,3],[3,4,-2],[-1,5,8]])\n",
    "\n",
    "A"
   ]
  },
  {
   "cell_type": "markdown",
   "metadata": {},
   "source": [
    "### Operaciones elementales\n",
    "\n",
    "![](../img/i2.PNG)\n",
    "\n",
    "![](../img/i3.PNG)\n",
    "\n",
    "![](../img/i4.PNG)"
   ]
  },
  {
   "cell_type": "markdown",
   "metadata": {},
   "source": [
    "Obteniendo la inversa\n",
    "\n",
    "![](../img/i5.PNG)\n",
    "\n",
    "\n"
   ]
  },
  {
   "cell_type": "markdown",
   "metadata": {},
   "source": [
    "Quedando:\n",
    "\n",
    "![](../img/i6.PNG)"
   ]
  },
  {
   "cell_type": "code",
   "execution_count": 4,
   "metadata": {},
   "outputs": [
    {
     "data": {
      "text/plain": [
       "array([[ 1.2       ,  0.2       , -0.4       ],\n",
       "       [-0.62857143,  0.08571429,  0.25714286],\n",
       "       [ 0.54285714, -0.02857143, -0.08571429]])"
      ]
     },
     "execution_count": 4,
     "metadata": {},
     "output_type": "execute_result"
    }
   ],
   "source": [
    "inv = np.linalg.inv(A)\n",
    "\n",
    "inv"
   ]
  },
  {
   "cell_type": "code",
   "execution_count": 5,
   "metadata": {},
   "outputs": [
    {
     "data": {
      "text/plain": [
       "array([[ 1.00000000e+00,  3.46944695e-18,  2.77555756e-17],\n",
       "       [-6.66133815e-16,  1.00000000e+00, -5.55111512e-17],\n",
       "       [ 0.00000000e+00,  2.77555756e-17,  1.00000000e+00]])"
      ]
     },
     "execution_count": 5,
     "metadata": {},
     "output_type": "execute_result"
    }
   ],
   "source": [
    "# Verificacion la A*A-1 = Matriz identidad\n",
    "\n",
    "check = np.dot(A,inv)\n",
    "\n",
    "check"
   ]
  }
 ],
 "metadata": {
  "kernelspec": {
   "display_name": "Python 3.9.13 64-bit (microsoft store)",
   "language": "python",
   "name": "python3"
  },
  "language_info": {
   "codemirror_mode": {
    "name": "ipython",
    "version": 3
   },
   "file_extension": ".py",
   "mimetype": "text/x-python",
   "name": "python",
   "nbconvert_exporter": "python",
   "pygments_lexer": "ipython3",
   "version": "3.9.13"
  },
  "orig_nbformat": 4,
  "vscode": {
   "interpreter": {
    "hash": "73116b792d4e7f4a2d42e6a2717bd01a40aff5b07001f93bde2c6f305f64c978"
   }
  }
 },
 "nbformat": 4,
 "nbformat_minor": 2
}
