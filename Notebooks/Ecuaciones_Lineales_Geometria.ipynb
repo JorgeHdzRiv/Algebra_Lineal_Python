{
 "cells": [
  {
   "cell_type": "markdown",
   "metadata": {},
   "source": [
    "# Sistema de ecuaciones lineales\n",
    "\n",
    "![](../img/1.PNG)\n",
    "\n",
    "Un sistema de ecuaciones de la forma\n",
    "\n",
    "```\n",
    "a11x+a12y = b1\n",
    "a12x+a22y = b2\n",
    "\n",
    "Donde:\n",
    "\n",
    "a11,a12,a21,a22 son coeficientes de las variables x,y\n",
    "\n",
    "b1,b2 son terminos independientes de cada ecuacion\n",
    "```\n",
    "\n"
   ]
  },
  {
   "cell_type": "markdown",
   "metadata": {},
   "source": [
    "Los sistemas de ecuaciones pueden tener tres formas de resolucion:\n",
    "\n",
    "* Solucion unica\n",
    "* Numero infinito de soluciones\n",
    "* Sin solucion\n",
    "\n",
    "A su vez existen dos propiedades de apoyo para encontrar la solucion de un sistema\n",
    "\n",
    "![](../img/2.PNG)\n"
   ]
  },
  {
   "cell_type": "markdown",
   "metadata": {},
   "source": [
    "## Solucion Unica \n",
    "\n",
    "\n"
   ]
  },
  {
   "cell_type": "markdown",
   "metadata": {},
   "source": [
    "### Matematicamente\n",
    "\n",
    "![](../img/3.PNG)\n",
    "\n",
    "\n",
    "![](../img/4.PNG)\n",
    "\n",
    "Graficamente se ve asi:\n",
    "\n",
    "![](../img/5.PNG)\n",
    "\n",
    "La grafica roja corresponde a la segunda ecuacion:\n",
    "\n",
    "```\n",
    "5x+2y=12 \n",
    "\n",
    "Despejando\n",
    "y = (12-5x)/2\n",
    "```\n",
    "\n",
    "Mientras que la grafica de color azul corresponde a:\n",
    "\n",
    "```\n",
    "3x-2y=4\n",
    "\n",
    "Despejando \n",
    "y = (4-3x)/-2\n",
    "```\n",
    "\n",
    "**El punto (2,1) está representado por los valores de ‘x’ y ‘y’ obtenidos, que nos muestran el cruce de las dos rectas, se representan como rectas porque ambas ecuaciones son de primer grado. Justo ese punto (2, 1) es la solución del sistema, ya que solamente en un punto se cruzan. Este sistema solamente tiene este punto como solución, es decir, es una solución única.**"
   ]
  },
  {
   "cell_type": "markdown",
   "metadata": {},
   "source": [
    "### Resolucion con python\n",
    "\n",
    "\n",
    "\n"
   ]
  },
  {
   "cell_type": "code",
   "execution_count": 1,
   "metadata": {},
   "outputs": [],
   "source": [
    "import numpy as np\n",
    "import matplotlib.pyplot as plt"
   ]
  },
  {
   "cell_type": "code",
   "execution_count": 2,
   "metadata": {},
   "outputs": [
    {
     "data": {
      "text/plain": [
       "(-0.25, 5.25, 0.0, 6.625)"
      ]
     },
     "execution_count": 2,
     "metadata": {},
     "output_type": "execute_result"
    },
    {
     "data": {
      "image/png": "[encoded data removed]",
      "text/plain": [
       "<Figure size 432x288 with 1 Axes>"
      ]
     },
     "metadata": {
      "needs_background": "light"
     },
     "output_type": "display_data"
    }
   ],
   "source": [
    "# graficando el sistema de ecuaciones.\n",
    "x_vals = np.linspace(0, 5, 50) # crea 50 valores entre 0 y 5\n",
    "plt.plot(x_vals, (12 - (5*x_vals))/2) # grafica 5x + 2y = 12\n",
    "plt.plot(x_vals, (4 - (3*x_vals))/-2) # grafica 3x - 2y = 4\n",
    "plt.axis(ymin = 0)"
   ]
  },
  {
   "cell_type": "markdown",
   "metadata": {},
   "source": [
    "### Ecuacion matricial\n",
    "\n",
    "Lo que es lo mismo que decir que la matriz A por la matriz x nos da como resultado el vector b.\n",
    "\n",
    "**Ax=b**\n",
    "\n",
    "En este caso, ya sabemos el resultado de x, por lo que podemos comprobar que nuestra solución es correcta realizando la multiplicación de matrices."
   ]
  },
  {
   "cell_type": "code",
   "execution_count": 3,
   "metadata": {},
   "outputs": [
    {
     "data": {
      "text/plain": [
       "array([[ 4.],\n",
       "       [12.]])"
      ]
     },
     "execution_count": 3,
     "metadata": {},
     "output_type": "execute_result"
    }
   ],
   "source": [
    "# Comprobando la solucion con la multiplicación de matrices.\n",
    "A = np.array([[3., -2.],\n",
    "              [5., 2.]])\n",
    "x = np.array([[2.],[1.]])\n",
    "\n",
    "A @ x"
   ]
  },
  {
   "cell_type": "markdown",
   "metadata": {},
   "source": [
    "### Con matrices\n",
    "\n",
    "\n",
    "Primero armamos la matriz A de coeficientes y la matriz b de resultados y luego utilizamos **solve()** para resolverla.\n",
    "\n",
    "Sistema de ecuaciones descritas\n",
    "\n",
    "```\n",
    "3x-2y=4\n",
    "5x+2y=12\n",
    "\n",
    "```"
   ]
  },
  {
   "cell_type": "code",
   "execution_count": 4,
   "metadata": {},
   "outputs": [
    {
     "data": {
      "text/plain": [
       "array([[ 3, -2],\n",
       "       [ 5,  2]])"
      ]
     },
     "execution_count": 4,
     "metadata": {},
     "output_type": "execute_result"
    }
   ],
   "source": [
    "# Creando matriz de coeficientes\n",
    "\n",
    "A = np.array([[3,-2],[5,2]])\n",
    "\n",
    "A"
   ]
  },
  {
   "cell_type": "code",
   "execution_count": 5,
   "metadata": {},
   "outputs": [
    {
     "data": {
      "text/plain": [
       "array([ 4, 12])"
      ]
     },
     "execution_count": 5,
     "metadata": {},
     "output_type": "execute_result"
    }
   ],
   "source": [
    "# Creando matriz de resultados\n",
    "\n",
    "b = np.array([4,12])\n",
    "b"
   ]
  },
  {
   "cell_type": "code",
   "execution_count": 6,
   "metadata": {},
   "outputs": [
    {
     "data": {
      "text/plain": [
       "array([2., 1.])"
      ]
     },
     "execution_count": 6,
     "metadata": {},
     "output_type": "execute_result"
    }
   ],
   "source": [
    "#Resolviendo el sistema de ecuaciones\n",
    "\n",
    "x = np.linalg.solve(A,b)\n",
    "x"
   ]
  },
  {
   "cell_type": "code",
   "execution_count": 7,
   "metadata": {},
   "outputs": [
    {
     "data": {
      "text/plain": [
       "array([False,  True])"
      ]
     },
     "execution_count": 7,
     "metadata": {},
     "output_type": "execute_result"
    }
   ],
   "source": [
    "# Comprobando la solucion\n",
    "A @ x == b"
   ]
  },
  {
   "cell_type": "markdown",
   "metadata": {},
   "source": [
    "## Solucion infinita"
   ]
  },
  {
   "cell_type": "markdown",
   "metadata": {},
   "source": [
    "### Matematicamente\n",
    "\n",
    "![](../img/6.PNG)\n",
    "\n"
   ]
  },
  {
   "cell_type": "markdown",
   "metadata": {},
   "source": [
    "![](../img/7.PNG)\n",
    "\n",
    "Por ser ecuaciones equivalentes, al graficarlas, también se obtienen líneas equivalentes y cada punto sobre las rectas resulta ser solución del sistema. Debido a que existe un número infinito de puntos sobre la recta, el sistema tiene un número infinito de soluciones.\n",
    "\n"
   ]
  },
  {
   "cell_type": "markdown",
   "metadata": {},
   "source": [
    "### Codigo"
   ]
  },
  {
   "cell_type": "code",
   "execution_count": 8,
   "metadata": {},
   "outputs": [
    {
     "data": {
      "text/plain": [
       "(-0.25, 5.25, 0.0, -1.75)"
      ]
     },
     "execution_count": 8,
     "metadata": {},
     "output_type": "execute_result"
    },
    {
     "data": {
      "image/png": "[encoded data removed]",
      "text/plain": [
       "<Figure size 432x288 with 1 Axes>"
      ]
     },
     "metadata": {
      "needs_background": "light"
     },
     "output_type": "display_data"
    }
   ],
   "source": [
    "# Graficando\n",
    "\n",
    "# graficando el sistema de ecuaciones.\n",
    "x_vals = np.linspace(0, 5, 50) # crea 50 valores entre 0 y 5\n",
    "plt.plot(x_vals, (7 - (x_vals))/-1)# grafica x - y = 7\n",
    "plt.plot(x_vals, (14 - (2*x_vals))/-2) # grafica 2x - 2y = 14\n",
    "plt.axis(ymin = 0)\n"
   ]
  },
  {
   "cell_type": "markdown",
   "metadata": {},
   "source": [
    "Se aprecia que la grafica no tiende a una interseccion asi que tiene soluciones infinitas"
   ]
  },
  {
   "cell_type": "code",
   "execution_count": 9,
   "metadata": {},
   "outputs": [
    {
     "data": {
      "text/plain": [
       "array([[ 1, -1],\n",
       "       [ 2, -2]])"
      ]
     },
     "execution_count": 9,
     "metadata": {},
     "output_type": "execute_result"
    }
   ],
   "source": [
    "# Creando matriz de coeficientes\n",
    "\n",
    "A1 = np.array([[1,-1],[2,-2]])\n",
    "\n",
    "A1"
   ]
  },
  {
   "cell_type": "code",
   "execution_count": 10,
   "metadata": {},
   "outputs": [
    {
     "data": {
      "text/plain": [
       "array([ 7, 14])"
      ]
     },
     "execution_count": 10,
     "metadata": {},
     "output_type": "execute_result"
    }
   ],
   "source": [
    "# Creando matriz de resultados\n",
    "\n",
    "b1 = np.array([7,14])\n",
    "b1"
   ]
  },
  {
   "cell_type": "code",
   "execution_count": 11,
   "metadata": {},
   "outputs": [
    {
     "data": {
      "text/plain": [
       "array([2., 1.])"
      ]
     },
     "execution_count": 11,
     "metadata": {},
     "output_type": "execute_result"
    }
   ],
   "source": [
    "#Resolviendo el sistema de ecuaciones\n",
    "\n",
    "x1 = np.linalg.solve(A,b)\n",
    "x1"
   ]
  },
  {
   "cell_type": "markdown",
   "metadata": {},
   "source": [
    "**LinAlgError: Singular matrix. Este error ocurre cuando intenta invertir una matriz singular, que por definición es una matriz que tiene un determinante de cero y no se puede invertir.**"
   ]
  },
  {
   "cell_type": "markdown",
   "metadata": {},
   "source": [
    "## Sin solucion"
   ]
  },
  {
   "cell_type": "markdown",
   "metadata": {},
   "source": [
    "### Matematicamente\n",
    "\n",
    "![](../img/8.PNG)\n",
    "\n"
   ]
  },
  {
   "cell_type": "markdown",
   "metadata": {},
   "source": [
    "![](../img/9.PNG)\n",
    "\n",
    "\n",
    "**Se puede observar que ambas rectas son paralelas, es decir, que nunca se cruzaran, por lo tanto no habra solucion y se dice\n",
    "que el sistemas es inconsistente o sin solucion**"
   ]
  },
  {
   "cell_type": "markdown",
   "metadata": {},
   "source": [
    "### Codigo"
   ]
  },
  {
   "cell_type": "code",
   "execution_count": 12,
   "metadata": {},
   "outputs": [
    {
     "data": {
      "text/plain": [
       "(-0.25, 5.25, 0.0, -1.225)"
      ]
     },
     "execution_count": 12,
     "metadata": {},
     "output_type": "execute_result"
    },
    {
     "data": {
      "image/png": "[encoded data removed]",
      "text/plain": [
       "<Figure size 432x288 with 1 Axes>"
      ]
     },
     "metadata": {
      "needs_background": "light"
     },
     "output_type": "display_data"
    }
   ],
   "source": [
    "# Graficando\n",
    "\n",
    "# graficando el sistema de ecuaciones.\n",
    "x_vals = np.linspace(0, 5, 50) # crea 50 valores entre 0 y 5\n",
    "plt.plot(x_vals, (7 - (x_vals))/-1) # grafica x - y = 7\n",
    "plt.plot(x_vals, (13 - (2*x_vals))/-2) # grafica 2x - 2y = 13\n",
    "plt.axis(ymin = 0)"
   ]
  },
  {
   "cell_type": "code",
   "execution_count": 13,
   "metadata": {},
   "outputs": [
    {
     "data": {
      "text/plain": [
       "array([2., 1.])"
      ]
     },
     "execution_count": 13,
     "metadata": {},
     "output_type": "execute_result"
    }
   ],
   "source": [
    "# Creando matriz de coeficientes\n",
    "\n",
    "A1 = np.array([[1,-1],[2,-2]])\n",
    "\n",
    "A1\n",
    "# Creando matriz de resultados\n",
    "\n",
    "b1 = np.array([7,13])\n",
    "b1\n",
    "\n",
    "#Resolviendo el sistema de ecuaciones\n",
    "\n",
    "x1 = np.linalg.solve(A,b)\n",
    "x1"
   ]
  },
  {
   "cell_type": "markdown",
   "metadata": {},
   "source": [
    "## Preguntas de aprendizaje\n",
    "\n",
    "* 1.¿Cómo está compuesta una ecuación lineal?\n",
    "* 2.¿Cuáles serían los posibles casos de solución para un sistema de ecuaciones lineales?\n",
    "* 3.¿Qué tipo de gráfica representa un sistema de ecuaciones de solución única?\n",
    "* 4.¿Qué tipo de gráfica representa un sistema de ecuaciones de solución infinita?\n",
    "* 5.¿Qué tipo de gráfica representa un sistema de ecuaciones sin solución?\n",
    "\n",
    "## Que tipos de graficas y soluciones dan estos sistemas de ecuaciones:\n",
    "\n",
    "```\n",
    "2x +3y = 7\n",
    "3x -2y = 6\n",
    "```\n",
    "\n",
    "```\n",
    "x -2y = 7\n",
    "3x = 4 +6y \n",
    "```\n",
    "\n",
    "\n",
    "```\n",
    "5x +y = 1\n",
    "7y = 3x\n",
    "```\n",
    "\n",
    "\n",
    "```\n",
    "3x -2y = 7\n",
    "4y = 6x -14\n",
    "```\n",
    "\n",
    "\n",
    "\n"
   ]
  }
 ],
 "metadata": {
  "kernelspec": {
   "display_name": "Python 3.9.13 64-bit (microsoft store)",
   "language": "python",
   "name": "python3"
  },
  "language_info": {
   "codemirror_mode": {
    "name": "ipython",
    "version": 3
   },
   "file_extension": ".py",
   "mimetype": "text/x-python",
   "name": "python",
   "nbconvert_exporter": "python",
   "pygments_lexer": "ipython3",
   "version": "3.9.13"
  },
  "orig_nbformat": 4,
  "vscode": {
   "interpreter": {
    "hash": "73116b792d4e7f4a2d42e6a2717bd01a40aff5b07001f93bde2c6f305f64c978"
   }
  }
 },
 "nbformat": 4,
 "nbformat_minor": 2
}
