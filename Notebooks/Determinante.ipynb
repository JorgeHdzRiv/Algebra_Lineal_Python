{
 "cells": [
  {
   "cell_type": "markdown",
   "metadata": {},
   "source": [
    "# Introduccion\n",
    "\n",
    "![](../img/d1.PNG)"
   ]
  },
  {
   "cell_type": "markdown",
   "metadata": {},
   "source": [
    "## Calculo de un determinante 2X2\n",
    "\n",
    "![](../img/d22.PNG)\n",
    "\n",
    "![](../img/d3.PNG)\n"
   ]
  },
  {
   "cell_type": "code",
   "execution_count": 1,
   "metadata": {},
   "outputs": [],
   "source": [
    "import numpy as np"
   ]
  },
  {
   "cell_type": "code",
   "execution_count": 2,
   "metadata": {},
   "outputs": [
    {
     "data": {
      "text/plain": [
       "array([[-1,  5],\n",
       "       [-3, -4]])"
      ]
     },
     "execution_count": 2,
     "metadata": {},
     "output_type": "execute_result"
    }
   ],
   "source": [
    "A = np.array([[-1,5],[-3,-4]])\n",
    "\n",
    "A"
   ]
  },
  {
   "cell_type": "code",
   "execution_count": 5,
   "metadata": {},
   "outputs": [
    {
     "name": "stdout",
     "output_type": "stream",
     "text": [
      "El determinantes es:  19.0\n"
     ]
    }
   ],
   "source": [
    "d = np.linalg.det(A).round()\n",
    "#.round para redondear a un entero\n",
    "print(\"El determinantes es: \",d)\n"
   ]
  },
  {
   "cell_type": "markdown",
   "metadata": {},
   "source": [
    "## Calculo de un determinante 3X3\n",
    "\n",
    "![](../img/d4.PNG)\n",
    "\n",
    "![](../img/d5.PNG)"
   ]
  },
  {
   "cell_type": "code",
   "execution_count": 6,
   "metadata": {},
   "outputs": [
    {
     "data": {
      "text/plain": [
       "array([[ 4,  7, -2],\n",
       "       [ 3, -5,  1],\n",
       "       [-8,  6,  9]])"
      ]
     },
     "execution_count": 6,
     "metadata": {},
     "output_type": "execute_result"
    }
   ],
   "source": [
    "A = np.array([[4,7,-2],[3,-5,1],[-8,6,9]])\n",
    "\n",
    "A"
   ]
  },
  {
   "cell_type": "code",
   "execution_count": 7,
   "metadata": {},
   "outputs": [
    {
     "name": "stdout",
     "output_type": "stream",
     "text": [
      "El determinantes es:  -405.0\n"
     ]
    }
   ],
   "source": [
    "d = np.linalg.det(A).round()\n",
    "#.round para redondear a un entero\n",
    "print(\"El determinantes es: \",d)"
   ]
  },
  {
   "cell_type": "markdown",
   "metadata": {},
   "source": [
    "## Propiedadades de los determinantes\n",
    "\n",
    "### Propiedad 1\n",
    "\n",
    "Sean A y B dos matrices de nxn, entonces se cumple que: \n",
    "\n",
    "**det AB= det A det B**\n",
    "\n",
    "Esto quiere decir que el determinante del producto de dos matrices cuadradas del mismo tamaño, es igual al producto de los determinantes de cada una.\n",
    "\n",
    "### Propiedad 2\n",
    "\n",
    "Si cualquier renglón o columna de A es un vector cero, entonces el **det A=0.**\n",
    "\n"
   ]
  },
  {
   "cell_type": "markdown",
   "metadata": {},
   "source": [
    "### Propiedad 3\n",
    "\n",
    "Si el renglón **i** o columna **j** de la matriz **A** se multiplica por un escalar **c**, entonces det A se multiplica por c . \n",
    "\n",
    "![](../img/d6.PNG)\n",
    "\n"
   ]
  },
  {
   "cell_type": "markdown",
   "metadata": {},
   "source": [
    "### Propiedad 4\n",
    "\n",
    "Si se suman dos matrices A y B, el determinante de la matriz resultante es la suma de cada uno de los determinantes, es decir: **det  C = det A + det B**"
   ]
  },
  {
   "cell_type": "markdown",
   "metadata": {},
   "source": [
    "### Propiedad 5\n",
    "\n",
    "Si en una matriz A se intercambian cualesquiera dos renglones (o columnas), tiene el efecto de multiplicar el det⁡ A por -1.\n",
    "\n",
    "![](../img/d7.PNG)"
   ]
  },
  {
   "cell_type": "markdown",
   "metadata": {},
   "source": [
    "### Propiedad 6\n",
    "\n",
    "Si la matriz A tiene dos renglones o columnas iguales, entonces: **det A=0**\n",
    "\n",
    "### Propiedad 7\n",
    "\n",
    "Si un renglón (o columna) de A es un múltiplo escalar de otro renglón (o columna), entonces **det⁡ A= 0.**\n",
    "\n",
    "### Propiedad 8\n",
    "\n",
    "Si det⁡ **𝐴≠0**, entonces la matriz **𝐴** es invertible.\n",
    "\n",
    "Nota: **Esta propiedad es importante porque si el determinante de una matriz de coeficientes\n",
    "que proviene de un sistema de ecuaciones es diferente de cero, quiere decir que el sistema si tiene solucion.**\n"
   ]
  },
  {
   "cell_type": "markdown",
   "metadata": {},
   "source": []
  },
  {
   "cell_type": "markdown",
   "metadata": {},
   "source": []
  }
 ],
 "metadata": {
  "kernelspec": {
   "display_name": "Python 3.9.13 64-bit (microsoft store)",
   "language": "python",
   "name": "python3"
  },
  "language_info": {
   "codemirror_mode": {
    "name": "ipython",
    "version": 3
   },
   "file_extension": ".py",
   "mimetype": "text/x-python",
   "name": "python",
   "nbconvert_exporter": "python",
   "pygments_lexer": "ipython3",
   "version": "3.9.13"
  },
  "orig_nbformat": 4,
  "vscode": {
   "interpreter": {
    "hash": "73116b792d4e7f4a2d42e6a2717bd01a40aff5b07001f93bde2c6f305f64c978"
   }
  }
 },
 "nbformat": 4,
 "nbformat_minor": 2
}
