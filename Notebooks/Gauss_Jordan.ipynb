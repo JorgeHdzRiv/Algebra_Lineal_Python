{
 "cells": [
  {
   "cell_type": "markdown",
   "metadata": {},
   "source": [
    "# Metodo Gauss Jordan\n",
    "\n",
    "El método de eliminación de Gauss-Jordan consiste en obtener la matriz identidad que contiene la solución de las ecuaciones lineales a través de las operaciones elementales entre renglones.\n",
    "\n",
    "## Matriz\n",
    "\n",
    "Es un arreglo rectangular de números.\n",
    "Una matriz con m renglones y n columnas se llama matriz de m x n.\n",
    "\n",
    "La matriz para el método de Gauss-Jordan se forma con los coeficientes de las variables del sistema de ecuaciones a resolver\n",
    "\n",
    "\n",
    "\n",
    "\n",
    "\n",
    "\n",
    "\n"
   ]
  },
  {
   "cell_type": "markdown",
   "metadata": {},
   "source": [
    "## Matriz identidad\n",
    "\n",
    "![](../img/12.PNG)"
   ]
  },
  {
   "cell_type": "markdown",
   "metadata": {},
   "source": [
    "## Pasos para el metodo Gauss-Jordan\n",
    "\n",
    "* Paso 1: Armar la matriz de coeficientes.\n",
    "* Paso 2: Armar la matriz aumentada identificando la columna de renglones o filas para realizar las operaciones elementales entre renglones.\n",
    "* Paso 3: Ya con la matriz aumentada se realizan las operaciones elementales entre renglones para obtener la matriz identidad, en donde se obtienen los resultados de las variables buscadas.\n",
    "\n",
    "\n",
    "\n",
    "\n",
    "\n",
    "\n"
   ]
  },
  {
   "cell_type": "markdown",
   "metadata": {},
   "source": [
    "### Paso 1: Matriz de coeficientes\n",
    "\n",
    "![](../img/10.PNG)\n",
    "\n",
    "### Paso 2: Matriz aumentada\n",
    "\n",
    "![](../img/11.PNG)\n",
    "\n",
    "### Paso 3: Operaciones elementales entre renglones\n",
    "\n",
    "![](../img/13.PNG)\n",
    "\n"
   ]
  },
  {
   "cell_type": "markdown",
   "metadata": {},
   "source": [
    "## Recomendaciones para el metodo Gauss-Jordan\n",
    "\n",
    "![](../img/14.PNG)\n",
    "\n",
    "\n",
    "![](../img/15.PNG)"
   ]
  },
  {
   "cell_type": "markdown",
   "metadata": {},
   "source": [
    "## Ejemplo de aplicacion\n",
    "\n",
    "![](../img/16.PNG)\n",
    "\n",
    "![](../img/17.PNG)\n",
    "\n",
    "![](../img/18.PNG)\n",
    "\n",
    "![](../img/19.PNG)\n",
    "\n",
    "\n",
    "### Operaciones finales\n",
    "\n",
    "![](../img/20.jpg)\n",
    "\n",
    "![](../img/21.jpg)\n",
    "\n",
    "![](../img/22.jpg)\n",
    "\n",
    "**Finalmente, en la ultima matriz se obtiene la matriz identidad y del lado derecho las soluciones del sistema, es decir:**\n",
    "\n",
    "```\n",
    "x1=4\n",
    "x2=-2\n",
    "x3=3\n",
    "```\n",
    "\n"
   ]
  },
  {
   "cell_type": "markdown",
   "metadata": {},
   "source": [
    "## Metodo con python\n"
   ]
  },
  {
   "cell_type": "code",
   "execution_count": 1,
   "metadata": {},
   "outputs": [],
   "source": [
    "import numpy as np"
   ]
  },
  {
   "cell_type": "markdown",
   "metadata": {},
   "source": [
    "![](../img/16.PNG)"
   ]
  },
  {
   "cell_type": "code",
   "execution_count": 2,
   "metadata": {},
   "outputs": [
    {
     "data": {
      "text/plain": [
       "array([[ 2,  4,  6],\n",
       "       [ 4,  5,  6],\n",
       "       [ 3,  1, -2]])"
      ]
     },
     "execution_count": 2,
     "metadata": {},
     "output_type": "execute_result"
    }
   ],
   "source": [
    "# Matriz coeficientes \n",
    "\n",
    "A = np.array([[2,4,6],[4,5,6],[3,1,-2]])\n",
    "\n",
    "A"
   ]
  },
  {
   "cell_type": "code",
   "execution_count": 6,
   "metadata": {},
   "outputs": [
    {
     "data": {
      "text/plain": [
       "array([[18],\n",
       "       [24],\n",
       "       [ 4]])"
      ]
     },
     "execution_count": 6,
     "metadata": {},
     "output_type": "execute_result"
    }
   ],
   "source": [
    "# Matriz resultados\n",
    "\n",
    "b = np.array([[18],[24],[4]])\n",
    "\n",
    "b"
   ]
  },
  {
   "cell_type": "code",
   "execution_count": 7,
   "metadata": {},
   "outputs": [
    {
     "data": {
      "text/plain": [
       "array([[ 2.,  4.,  6., 18.],\n",
       "       [ 4.,  5.,  6., 24.],\n",
       "       [ 3.,  1., -2.,  4.]])"
      ]
     },
     "execution_count": 7,
     "metadata": {},
     "output_type": "execute_result"
    }
   ],
   "source": [
    "# Evitar truncamiento en operaciones\n",
    "A = np.array(A,dtype=float) \n",
    "\n",
    "# Matriz aumentada\n",
    "AB = np.concatenate((A,b),axis=1)\n",
    "AB0 = np.copy(AB)\n",
    "\n",
    "AB0"
   ]
  },
  {
   "cell_type": "code",
   "execution_count": 9,
   "metadata": {},
   "outputs": [
    {
     "data": {
      "text/plain": [
       "((3, 4), 3, 4)"
      ]
     },
     "execution_count": 9,
     "metadata": {},
     "output_type": "execute_result"
    }
   ],
   "source": [
    "# Pivoteo parcial por filas\n",
    "size = np.shape(AB)\n",
    "n = size[0] #Filas \n",
    "m = size[1] #Columnas\n",
    "\n",
    "size,n,m"
   ]
  },
  {
   "cell_type": "code",
   "execution_count": 11,
   "metadata": {},
   "outputs": [
    {
     "data": {
      "text/plain": [
       "array([[ 4.,  5.,  6., 24.],\n",
       "       [ 2.,  4.,  6., 18.],\n",
       "       [ 3.,  1., -2.,  4.]])"
      ]
     },
     "execution_count": 11,
     "metadata": {},
     "output_type": "execute_result"
    }
   ],
   "source": [
    "# Para cada fila en AB\n",
    "for i in range(0,n-1,1):\n",
    "    # columna desde diagonal i en adelante\n",
    "    columna = abs(AB[i:,i])\n",
    "    dondemax = np.argmax(columna)\n",
    "    \n",
    "    # dondemax no está en diagonal\n",
    "    if (dondemax !=0):\n",
    "        # intercambia filas\n",
    "        temporal = np.copy(AB[i,:])\n",
    "        AB[i,:] = AB[dondemax+i,:]\n",
    "        AB[dondemax+i,:] = temporal\n",
    "        \n",
    "AB1 = np.copy(AB)\n",
    "\n",
    "AB1"
   ]
  },
  {
   "cell_type": "code",
   "execution_count": 12,
   "metadata": {},
   "outputs": [
    {
     "data": {
      "text/plain": [
       "array([[ 4. ,  5. ,  6. , 24. ],\n",
       "       [ 0. ,  1.5,  3. ,  6. ],\n",
       "       [ 0. ,  0. , -1. , -3. ]])"
      ]
     },
     "execution_count": 12,
     "metadata": {},
     "output_type": "execute_result"
    }
   ],
   "source": [
    "# eliminacion hacia adelante\n",
    "for i in range(0,n-1,1):\n",
    "    pivote = AB[i,i]\n",
    "    adelante = i + 1\n",
    "    for k in range(adelante,n,1):\n",
    "        factor = AB[k,i]/pivote\n",
    "        AB[k,:] = AB[k,:] - AB[i,:]*factor\n",
    "AB2 = np.copy(AB)\n",
    "\n",
    "AB2"
   ]
  },
  {
   "cell_type": "code",
   "execution_count": 15,
   "metadata": {},
   "outputs": [
    {
     "data": {
      "text/plain": [
       "array([[ 4.],\n",
       "       [-2.],\n",
       "       [ 3.]])"
      ]
     },
     "execution_count": 15,
     "metadata": {},
     "output_type": "execute_result"
    }
   ],
   "source": [
    "# elimina hacia atras\n",
    "ultfila = n-1\n",
    "ultcolumna = m-1\n",
    "for i in range(ultfila,0-1,-1):\n",
    "    pivote = AB[i,i]\n",
    "    atras = i-1 \n",
    "    for k in range(atras,0-1,-1):\n",
    "        factor = AB[k,i]/pivote\n",
    "        AB[k,:] = AB[k,:] - AB[i,:]*factor\n",
    "    # diagonal a unos\n",
    "    AB[i,:] = AB[i,:]/AB[i,i]\n",
    "X = np.copy(AB[:,ultcolumna])\n",
    "X = np.transpose([X])\n",
    "\n",
    "X"
   ]
  },
  {
   "cell_type": "code",
   "execution_count": 16,
   "metadata": {},
   "outputs": [
    {
     "name": "stdout",
     "output_type": "stream",
     "text": [
      "Matriz aumentada:\n",
      "[[ 2.  4.  6. 18.]\n",
      " [ 4.  5.  6. 24.]\n",
      " [ 3.  1. -2.  4.]]\n",
      "Pivoteo parcial por filas\n",
      "[[ 4.  5.  6. 24.]\n",
      " [ 2.  4.  6. 18.]\n",
      " [ 3.  1. -2.  4.]]\n",
      "eliminacion hacia adelante\n",
      "[[ 4.   5.   6.  24. ]\n",
      " [ 0.   1.5  3.   6. ]\n",
      " [ 0.   0.  -1.  -3. ]]\n",
      "eliminación hacia atrás\n",
      "[[ 1.  0.  0.  4.]\n",
      " [ 0.  1.  0. -2.]\n",
      " [-0. -0.  1.  3.]]\n",
      "solución de X: \n",
      "[[ 4.]\n",
      " [-2.]\n",
      " [ 3.]]\n"
     ]
    }
   ],
   "source": [
    "# SALIDA\n",
    "print('Matriz aumentada:')\n",
    "print(AB0)\n",
    "print('Pivoteo parcial por filas')\n",
    "print(AB1)\n",
    "print('eliminacion hacia adelante')\n",
    "print(AB2)\n",
    "print('eliminación hacia atrás')\n",
    "print(AB)\n",
    "print('solución de X: ')\n",
    "print(X)"
   ]
  },
  {
   "cell_type": "markdown",
   "metadata": {},
   "source": []
  }
 ],
 "metadata": {
  "kernelspec": {
   "display_name": "Python 3.9.13 64-bit (microsoft store)",
   "language": "python",
   "name": "python3"
  },
  "language_info": {
   "codemirror_mode": {
    "name": "ipython",
    "version": 3
   },
   "file_extension": ".py",
   "mimetype": "text/x-python",
   "name": "python",
   "nbconvert_exporter": "python",
   "pygments_lexer": "ipython3",
   "version": "3.9.13"
  },
  "orig_nbformat": 4,
  "vscode": {
   "interpreter": {
    "hash": "73116b792d4e7f4a2d42e6a2717bd01a40aff5b07001f93bde2c6f305f64c978"
   }
  }
 },
 "nbformat": 4,
 "nbformat_minor": 2
}
