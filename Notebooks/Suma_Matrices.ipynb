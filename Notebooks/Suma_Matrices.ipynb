{
 "cells": [
  {
   "cell_type": "markdown",
   "metadata": {},
   "source": [
    "# Propiedades \n",
    "\n",
    "![](../img/s1.PNG)"
   ]
  },
  {
   "cell_type": "markdown",
   "metadata": {},
   "source": [
    "![](../img/s2.PNG)"
   ]
  },
  {
   "cell_type": "markdown",
   "metadata": {},
   "source": [
    "## Ejemplo en python\n",
    "\n",
    "![](../img/s3.PNG)\n",
    "\n"
   ]
  },
  {
   "cell_type": "code",
   "execution_count": 6,
   "metadata": {},
   "outputs": [],
   "source": [
    "import numpy as np\n",
    "\n"
   ]
  },
  {
   "cell_type": "code",
   "execution_count": 11,
   "metadata": {},
   "outputs": [
    {
     "name": "stdout",
     "output_type": "stream",
     "text": [
      "[[ 3  0 -2]\n",
      " [ 2 -1  4]]\n",
      "El size de A es:  (2, 3)\n",
      "[[ 5 -3  6]\n",
      " [ 1  2 -5]]\n",
      "El size de B es:  (2, 3)\n",
      "[[ 5 -3]]\n",
      "El size de C es:  (1, 2)\n"
     ]
    }
   ],
   "source": [
    "A = np.array([[3,0,-2],[2,-1,4]])\n",
    "print(A)\n",
    "print(\"El size de A es: \",A.shape)\n",
    "\n",
    "B = np.array([[5,-3,6],[1,2,-5]])\n",
    "print(B)\n",
    "print(\"El size de B es: \",B.shape)\n",
    "\n",
    "C = np.array([[5,-3]])\n",
    "print(C)\n",
    "print(\"El size de C es: \",C.shape)\n"
   ]
  },
  {
   "cell_type": "markdown",
   "metadata": {},
   "source": [
    "Suma de matrices\n",
    "\n",
    "![](../img/s4.PNG)"
   ]
  },
  {
   "cell_type": "code",
   "execution_count": 13,
   "metadata": {},
   "outputs": [
    {
     "name": "stdout",
     "output_type": "stream",
     "text": [
      "[[ 8 -3  4]\n",
      " [ 3  1 -1]]\n"
     ]
    }
   ],
   "source": [
    "print(A+B)"
   ]
  },
  {
   "cell_type": "code",
   "execution_count": 12,
   "metadata": {},
   "outputs": [
    {
     "ename": "ValueError",
     "evalue": "operands could not be broadcast together with shapes (2,3) (1,2) ",
     "output_type": "error",
     "traceback": [
      "\u001b[1;31m---------------------------------------------------------------------------\u001b[0m",
      "\u001b[1;31mValueError\u001b[0m                                Traceback (most recent call last)",
      "\u001b[1;32mc:\\Users\\Jorge Hdz\\Desktop\\algebra_lineal_python\\Notebooks\\Suma_Matrices.ipynb Celda 6\u001b[0m in \u001b[0;36m<cell line: 3>\u001b[1;34m()\u001b[0m\n\u001b[0;32m      <a href='vscode-notebook-cell:/c%3A/Users/Jorge%20Hdz/Desktop/algebra_lineal_python/Notebooks/Suma_Matrices.ipynb#X11sZmlsZQ%3D%3D?line=0'>1</a>\u001b[0m \u001b[39m# Demostracion de que no se pueden sumar matrices de diferente size\u001b[39;00m\n\u001b[1;32m----> <a href='vscode-notebook-cell:/c%3A/Users/Jorge%20Hdz/Desktop/algebra_lineal_python/Notebooks/Suma_Matrices.ipynb#X11sZmlsZQ%3D%3D?line=2'>3</a>\u001b[0m \u001b[39mprint\u001b[39m(A\u001b[39m+\u001b[39;49mC)\n",
      "\u001b[1;31mValueError\u001b[0m: operands could not be broadcast together with shapes (2,3) (1,2) "
     ]
    }
   ],
   "source": [
    "# Demostracion de que no se pueden sumar matrices de diferente size\n",
    "\n",
    "print(A+C)\n",
    "\n",
    "#ValueError: operands could not be broadcast together with shapes (2,3) (1,2) "
   ]
  },
  {
   "cell_type": "code",
   "execution_count": 17,
   "metadata": {},
   "outputs": [
    {
     "name": "stdout",
     "output_type": "stream",
     "text": [
      "[[ 8 -3  4]\n",
      " [ 3  1 -1]]\n",
      "Demostraccion que es correcta\n",
      "[[ 8 -3  4]\n",
      " [ 3  1 -1]]\n",
      "True\n"
     ]
    }
   ],
   "source": [
    "# Propiedad conmutativa\n",
    "# A+B = B+A\n",
    "\n",
    "print(A+B)\n",
    "print(\"Demostraccion que es correcta\")\n",
    "print(B+A)\n",
    "\n",
    "print(np.allclose((A+B),(B+A)))\n",
    "# Nos arrojara true si las dos afirmaciones son verdad\n"
   ]
  },
  {
   "cell_type": "markdown",
   "metadata": {},
   "source": [
    "**Las matrices deben tener el mismo size para poderse sumar**"
   ]
  },
  {
   "cell_type": "code",
   "execution_count": 22,
   "metadata": {},
   "outputs": [
    {
     "name": "stdout",
     "output_type": "stream",
     "text": [
      "[[ 3  0 -2]\n",
      " [ 2 -1  4]]\n",
      "\n",
      "[[ 3  0 -2]\n",
      " [ 2 -1  4]]\n",
      "\n",
      "[[ 3  0 -2]\n",
      " [ 2 -1  4]]\n"
     ]
    }
   ],
   "source": [
    "# Propiedad del neutro aditivo\n",
    "# A+0 = 0+A = A\n",
    "\n",
    "print(A+0)\n",
    "print(\"\")\n",
    "print(0+A)\n",
    "print(\"\")\n",
    "print(A)"
   ]
  },
  {
   "cell_type": "markdown",
   "metadata": {},
   "source": [
    "Resta de matrices\n",
    "\n",
    "![](../img/s5.PNG)"
   ]
  },
  {
   "cell_type": "code",
   "execution_count": 19,
   "metadata": {},
   "outputs": [
    {
     "name": "stdout",
     "output_type": "stream",
     "text": [
      "[[-4  3]\n",
      " [ 9 -5]]\n"
     ]
    }
   ],
   "source": [
    "V = np.array([[1,2],[3,4]])\n",
    "R = np.array([[5,-1],[-6,9]])\n",
    "\n",
    "print(V-R)"
   ]
  },
  {
   "cell_type": "markdown",
   "metadata": {},
   "source": [
    "Se pueden realizar operaciones usando escalares tambien\n",
    "\n",
    "![](../img/s6.PNG)\n",
    "\n",
    "\n"
   ]
  },
  {
   "cell_type": "code",
   "execution_count": 32,
   "metadata": {},
   "outputs": [
    {
     "name": "stdout",
     "output_type": "stream",
     "text": [
      "[[  9.5 -11. ]\n",
      " [ 23.    2. ]]\n"
     ]
    }
   ],
   "source": [
    "A = np.array([[1,2],[4,-2]])\n",
    "B = np.array([[3,-4],[7,1]])\n",
    "\n",
    "print((1/2*A)+(3*B))"
   ]
  }
 ],
 "metadata": {
  "kernelspec": {
   "display_name": "Python 3.9.13 64-bit (microsoft store)",
   "language": "python",
   "name": "python3"
  },
  "language_info": {
   "codemirror_mode": {
    "name": "ipython",
    "version": 3
   },
   "file_extension": ".py",
   "mimetype": "text/x-python",
   "name": "python",
   "nbconvert_exporter": "python",
   "pygments_lexer": "ipython3",
   "version": "3.9.13"
  },
  "orig_nbformat": 4,
  "vscode": {
   "interpreter": {
    "hash": "73116b792d4e7f4a2d42e6a2717bd01a40aff5b07001f93bde2c6f305f64c978"
   }
  }
 },
 "nbformat": 4,
 "nbformat_minor": 2
}
