{
 "cells": [
  {
   "cell_type": "markdown",
   "metadata": {},
   "source": [
    "# Introduccion\n",
    "\n",
    "![](../img/c1.PNG)\n",
    "\n",
    "El método de Cramer establece lo siguiente:\n",
    "\n",
    "Sea A una matriz de nxn y suponga que **det𝐴≠0**. Si A es la matriz de coeficientes de un sistema de ecuaciones lineales, la solución única al sistema está dada por:\n",
    "\n",
    "![](../img/c2.PNG)"
   ]
  },
  {
   "cell_type": "markdown",
   "metadata": {},
   "source": [
    "## Sistema de ecuaciones\n",
    "\n",
    "![](../img/c3.PNG)\n",
    "\n",
    "A partir de este sistema surgen las siguientes determinantes:\n",
    "\n",
    "![](../img/c4.PNG)\n",
    "\n"
   ]
  },
  {
   "cell_type": "markdown",
   "metadata": {},
   "source": [
    "Ya calculados los valores D1,D2, D3 y de D se sustituyen para obtener la solución única del sistema de ecuaciones según corresponda\n",
    "\n",
    "![](../img/c5.PNG)"
   ]
  },
  {
   "cell_type": "markdown",
   "metadata": {},
   "source": [
    "## Ejemplo\n",
    "\n",
    "Sea el siguiente sistema:\n",
    "\n",
    "![](../img/c6.PNG)"
   ]
  },
  {
   "cell_type": "code",
   "execution_count": 5,
   "metadata": {},
   "outputs": [
    {
     "name": "stdout",
     "output_type": "stream",
     "text": [
      "[[ 2  4  6]\n",
      " [ 4  5  6]\n",
      " [ 3  1 -2]]\n",
      "\n",
      "[[18]\n",
      " [24]\n",
      " [ 4]]\n"
     ]
    }
   ],
   "source": [
    "import numpy as np\n",
    "\n",
    "# Matriz de coeficientes\n",
    "A = np.array([[2,4,6],[4,5,6],[3,1,-2]])\n",
    "\n",
    "print(A)\n",
    "\n",
    "print(\"\")\n",
    "#Matriz de resultados\n",
    "\n",
    "B = np.array([[18],[24],[4]])\n",
    "\n",
    "print(B)"
   ]
  },
  {
   "cell_type": "code",
   "execution_count": 7,
   "metadata": {},
   "outputs": [
    {
     "data": {
      "text/plain": [
       "6.0"
      ]
     },
     "execution_count": 7,
     "metadata": {},
     "output_type": "execute_result"
    }
   ],
   "source": [
    "D = np.linalg.det(A).round()\n",
    "\n",
    "D"
   ]
  },
  {
   "cell_type": "markdown",
   "metadata": {},
   "source": [
    "Armamos los determinantes y los calculamos cada uno.\n",
    "\n",
    "![](../img/c7.PNG)\n"
   ]
  },
  {
   "cell_type": "code",
   "execution_count": 8,
   "metadata": {},
   "outputs": [
    {
     "name": "stdout",
     "output_type": "stream",
     "text": [
      "24.0\n",
      "-12.0\n",
      "18.0\n"
     ]
    }
   ],
   "source": [
    "# Matrices de determinantes\n",
    "\n",
    "D1 = np.array([[18,4,6],[24,5,6],[4,1,-2]])\n",
    "D1 = np.linalg.det(D1).round()\n",
    "print(D1)\n",
    "\n",
    "D2 = np.array([[2,18,6],[4,24,6],[3,4,-2]])\n",
    "D2 = np.linalg.det(D2).round()\n",
    "print(D2)\n",
    "\n",
    "D3 = np.array([[2,4,18],[4,5,24],[3,1,4]])\n",
    "D3 = np.linalg.det(D3).round()\n",
    "print(D3)"
   ]
  },
  {
   "cell_type": "markdown",
   "metadata": {},
   "source": [
    "Por la Regla de Cramer, sustituimos los valores de los determinantes obtenidos en la solución única del sistema de ecuaciones.\n",
    "\n",
    "![](../img/c8.PNG)"
   ]
  },
  {
   "cell_type": "code",
   "execution_count": 9,
   "metadata": {},
   "outputs": [
    {
     "name": "stdout",
     "output_type": "stream",
     "text": [
      "x1:  4.0\n",
      "x2:  -2.0\n",
      "x3:  3.0\n"
     ]
    }
   ],
   "source": [
    "X1 = D1/D \n",
    "print(\"x1: \",X1)\n",
    "\n",
    "X2 = D2/D \n",
    "print(\"x2: \",X2)\n",
    "\n",
    "X3 = D3/D \n",
    "print(\"x3: \",X3)"
   ]
  },
  {
   "cell_type": "markdown",
   "metadata": {},
   "source": []
  }
 ],
 "metadata": {
  "kernelspec": {
   "display_name": "Python 3.9.13 64-bit (microsoft store)",
   "language": "python",
   "name": "python3"
  },
  "language_info": {
   "codemirror_mode": {
    "name": "ipython",
    "version": 3
   },
   "file_extension": ".py",
   "mimetype": "text/x-python",
   "name": "python",
   "nbconvert_exporter": "python",
   "pygments_lexer": "ipython3",
   "version": "3.9.13"
  },
  "orig_nbformat": 4,
  "vscode": {
   "interpreter": {
    "hash": "73116b792d4e7f4a2d42e6a2717bd01a40aff5b07001f93bde2c6f305f64c978"
   }
  }
 },
 "nbformat": 4,
 "nbformat_minor": 2
}
