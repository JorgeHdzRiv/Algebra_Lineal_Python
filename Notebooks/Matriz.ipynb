{
 "cells": [
  {
   "cell_type": "markdown",
   "metadata": {},
   "source": [
    "# Introduccion\n",
    "\n",
    "Las matrices son conjuntos de elementos ordenados en una estructura de filas y columnas. Dependiendo del número de filas y columnas que tenga una matriz, estaremos hablando de una dimensión u otra.\n",
    "\n",
    "\n",
    "\n",
    "![](../img/m1.png)"
   ]
  },
  {
   "cell_type": "markdown",
   "metadata": {},
   "source": [
    "## Tipos de matrices\n",
    "\n"
   ]
  },
  {
   "cell_type": "markdown",
   "metadata": {},
   "source": [
    "### Matriz cuadrada\n",
    "\n",
    "Una matriz cuadrada es una matriz que tiene el mismo número de filas que de columnas.\n",
    "\n",
    "![](../img/m2.png)\n",
    "\n",
    "\n",
    "La diagonal principal de una matriz cuadrada son los elementos que van desde la esquina superior izquierda hasta la esquina inferior derecha\n",
    "\n",
    "\n",
    "\n",
    "\n",
    "\n"
   ]
  },
  {
   "cell_type": "code",
   "execution_count": 24,
   "metadata": {},
   "outputs": [],
   "source": [
    "import numpy as np"
   ]
  },
  {
   "cell_type": "code",
   "execution_count": 25,
   "metadata": {},
   "outputs": [
    {
     "data": {
      "text/plain": [
       "array([[ 5,  2, -3],\n",
       "       [ 1,  9,  7],\n",
       "       [ 4,  1, -2]])"
      ]
     },
     "execution_count": 25,
     "metadata": {},
     "output_type": "execute_result"
    }
   ],
   "source": [
    "A = np.array([[5,2,-3],[1,9,7],[4,1,-2]])\n",
    "A"
   ]
  },
  {
   "cell_type": "markdown",
   "metadata": {},
   "source": [
    "#### Propiedades\n",
    "\n",
    "* Cualquier matriz cuadrada se puede descomponer en una suma de una matriz simétrica y una matriz antisimétrica.\n",
    "* Si dos matrices cuadradas son del mismo orden, se pueden sumar o restar entre sí\n",
    "* Se pueden multiplicar dos matrices cuadradas en los dos sentidos posibles. Sin embargo, el producto de matrices cuadradas no es conmutativo, es decir, el resultado de la multiplicación cambiará según el lado por el que se multiplique.\n",
    "* Las matrices cuadradas son las únicas que permiten calcular el determinante. Por lo tanto, solo se puede resolver un determinante si se trata de una matriz cuadrada. \n",
    "\n",
    "**Si el determinante de la matriz es diferente de 0 significa que es una matriz regular, es decir, que es invertible. Por contra, si el determinante es nulo, se trata de una matriz singular (que no tiene inversa).**"
   ]
  },
  {
   "cell_type": "code",
   "execution_count": 26,
   "metadata": {},
   "outputs": [
    {
     "name": "stdout",
     "output_type": "stream",
     "text": [
      "La suma de A \n",
      " [[ 5  2 -3]\n",
      " [ 1  9  7]\n",
      " [ 4  1 -2]] \n",
      " + B \n",
      " [[ 2  3  0]\n",
      " [ 8  6 -4]\n",
      " [ 1  3 -1]] es: \n",
      "\n",
      "[[ 7  5 -3]\n",
      " [ 9 15  3]\n",
      " [ 5  4 -3]]\n"
     ]
    }
   ],
   "source": [
    "# Suma de matrices cuadradas\n",
    "\n",
    "B = np.array([[2,3,0],[8,6,-4],[1,3,-1]])\n",
    "\n",
    "res = A+B\n",
    "\n",
    "print(f'La suma de A \\n {A} \\n + B \\n {B} es: \\n')\n",
    "print(res)"
   ]
  },
  {
   "cell_type": "code",
   "execution_count": 27,
   "metadata": {},
   "outputs": [
    {
     "name": "stdout",
     "output_type": "stream",
     "text": [
      "La matriz C es: \n",
      " [[ 3 -1]\n",
      " [ 4  0]]\n",
      "La matriz D es: \n",
      " [[5 2]\n",
      " [3 1]]\n",
      "La multiplicacion de las matrices C*D es: \n",
      " [[12  5]\n",
      " [20  8]]\n",
      "La multiplicacion de las matrices D*C es: \n",
      " [[23 -5]\n",
      " [13 -3]]\n"
     ]
    }
   ],
   "source": [
    "# Multiplicacion de matrices\n",
    "\n",
    "C = np.array([[3,-1],[4,0]])\n",
    "D = np.array([[5,2],[3,1]])\n",
    "\n",
    "m1 = np.dot(C,D)\n",
    "m2 = np.dot(D,C)\n",
    "\n",
    "print(\"La matriz C es: \\n\",C)\n",
    "print(\"La matriz D es: \\n\",D)\n",
    "\n",
    "print(\"La multiplicacion de las matrices C*D es: \\n\",m1)\n",
    "\n",
    "print(\"La multiplicacion de las matrices D*C es: \\n\",m2)\n"
   ]
  },
  {
   "cell_type": "code",
   "execution_count": 28,
   "metadata": {},
   "outputs": [
    {
     "name": "stdout",
     "output_type": "stream",
     "text": [
      "El determinante de la matriz A es: 40.000000\n"
     ]
    }
   ],
   "source": [
    "# Determinante usando la regla de Sarrus\n",
    "det = ((A[0][0] * A[1][1] * A[2][2]) + (A[0][1]  * A[1][2] * A[2][0]) + \n",
    "       (A[0][2] * A[1][0] * A[2][1])) - ((A[2][0] * A[1][1] * A[0][2]) + \n",
    "       (A[2][1]  * A[1][2] * A[0][0]) + (A[2][2] * A[1][0] * A[0][1]))\n",
    "     \n",
    "  # mostramos el resultado\n",
    "print(\"El determinante de la matriz A es: %f\" % det)"
   ]
  },
  {
   "cell_type": "code",
   "execution_count": 29,
   "metadata": {},
   "outputs": [
    {
     "name": "stdout",
     "output_type": "stream",
     "text": [
      "La matriz A es: \n",
      " [[ 5  2 -3]\n",
      " [ 1  9  7]\n",
      " [ 4  1 -2]]\n"
     ]
    },
    {
     "data": {
      "text/plain": [
       "40.0"
      ]
     },
     "execution_count": 29,
     "metadata": {},
     "output_type": "execute_result"
    }
   ],
   "source": [
    "# Determinante usando numpy\n",
    "\n",
    "print(\"La matriz A es: \\n\",A)\n",
    "detA = np.linalg.det(A)\n",
    "detA"
   ]
  },
  {
   "cell_type": "markdown",
   "metadata": {},
   "source": [
    "### Matriz inversa\n",
    "\n",
    "Transformación lineal de una matriz mediante la multiplicación del inverso del determinante de la matriz por la matriz adjunta traspuesta."
   ]
  },
  {
   "cell_type": "markdown",
   "metadata": {},
   "source": [
    "#### Propiedades\n",
    "\n",
    "* La inversa de un producto de matrices es igual al producto de la inversa de cada matriz: (A x B)^-1 = A^-1 x B^-1\n",
    "* Si una matriz es invertible, también lo es su transpuesta. El inverso de la transpuesta es la transpuesta de su inversa: \n",
    "(AT)^1 = (A^-1)^T\n",
    "* La inversa de la matriz inversa es la matriz natural: (A^-1)"
   ]
  },
  {
   "cell_type": "markdown",
   "metadata": {},
   "source": [
    "Existen diferentes métodos para calcular la inversa de una matriz. Si una matriz es invertible podemos calcular su inversa a partir del método por determinantes, el método de Gauss-Jordan y el método por adjuntos. Sea cual sea el método para calcular la matriz inversa, el resultado debe ser el mismo, ya que una matriz tan sólo tiene una inversa.\n",
    "\n",
    "![](../img/m3.png)\n",
    "\n"
   ]
  },
  {
   "cell_type": "code",
   "execution_count": 31,
   "metadata": {},
   "outputs": [
    {
     "data": {
      "text/plain": [
       "array([[-0.6,  1. ,  0.8],\n",
       "       [ 1. , -1. , -1. ],\n",
       "       [ 1.2, -1. , -1.6]])"
      ]
     },
     "execution_count": 31,
     "metadata": {},
     "output_type": "execute_result"
    }
   ],
   "source": [
    "# Codigo con numpy\n",
    "\n",
    "import numpy as np\n",
    "\n",
    "m=np.array([[3,4,-1],[2,0,1],[1,3,-2]])\n",
    "\n",
    "inv_m = np.linalg.inv(m)\n",
    "\n",
    "inv_m"
   ]
  },
  {
   "cell_type": "code",
   "execution_count": 35,
   "metadata": {},
   "outputs": [
    {
     "name": "stdout",
     "output_type": "stream",
     "text": [
      "[[ 1.00000000e+00 -1.11022302e-16  4.44089210e-16]\n",
      " [-4.44089210e-16  1.00000000e+00 -2.22044605e-16]\n",
      " [ 0.00000000e+00 -2.22044605e-16  1.00000000e+00]]\n",
      "[[1. 0. 0.]\n",
      " [0. 1. 0.]\n",
      " [0. 0. 1.]]\n",
      "True\n"
     ]
    }
   ],
   "source": [
    "#Comprobamos con la multiplicacion de las dos matrices el resultado debe ser una matriz identidad\n",
    "\n",
    "print(np.dot(inv_m, m))\n",
    "\n",
    "print(np.eye(3))\n",
    "\n",
    "#Comprobamos con una matriz identidad generada anteriormente\n",
    "print(np.allclose(np.dot(inv_m, m), np.eye(3)))\n",
    "\n"
   ]
  },
  {
   "cell_type": "markdown",
   "metadata": {},
   "source": [
    "**Los valores python los muestra como otro valor pero se pueden redondear a 0**"
   ]
  },
  {
   "cell_type": "markdown",
   "metadata": {},
   "source": [
    "### Matriz transpuesta\n",
    "\n",
    "La matriz transpuesta (o traspuesta) de la matiz A se denota por AT y es la matriz que tiene por filas a las columnas de A.\n",
    "\n",
    "Si la matriz  A es de dimensión mxn, entonces la dimensión de  AT  es nxm.\n",
    "\n",
    "![](../img/m4.png)"
   ]
  },
  {
   "cell_type": "markdown",
   "metadata": {},
   "source": [
    "#### Propiedades\n",
    "\n",
    "* Si la matriz A es cuadrada y diagonal, A = AT.\n",
    "* La transpuesta de la transpuesta de A es A: (AT)T = A.\n",
    "* La transpuesta de la suma de matrices es (A + B)T = AT + BT.\n",
    "* La transpuesta del producto de un escalar α por una matriz A es (α·A)T = α·AT\n",
    "* La transpuesta del producto de matrices es (A·B)T = BT·AT."
   ]
  },
  {
   "cell_type": "code",
   "execution_count": 37,
   "metadata": {},
   "outputs": [
    {
     "name": "stdout",
     "output_type": "stream",
     "text": [
      "Matriz original:\n",
      "(['a', 'b', 'c'], ['1', '2', '3'], ['d', 'e', 'f'])\n",
      "\n",
      "Matriz transpuesta Python:\n",
      "[['a' '1' 'd']\n",
      " ['b' '2' 'e']\n",
      " ['c' '3' 'f']]\n"
     ]
    }
   ],
   "source": [
    "#Matriz transpuesta\n",
    "import numpy as np\n",
    "\n",
    "m = ( [\"a\", \"b\", \"c\"], [\"1\", \"2\", \"3\"], [\"d\", \"e\", \"f\"])\n",
    "print( \"Matriz original:\" )\n",
    "print( m )\n",
    "\n",
    "mt = np.transpose( m )\n",
    "print( \"\\nMatriz transpuesta Python:\" )\n",
    "print( mt )"
   ]
  }
 ],
 "metadata": {
  "kernelspec": {
   "display_name": "Python 3.9.13 64-bit (microsoft store)",
   "language": "python",
   "name": "python3"
  },
  "language_info": {
   "codemirror_mode": {
    "name": "ipython",
    "version": 3
   },
   "file_extension": ".py",
   "mimetype": "text/x-python",
   "name": "python",
   "nbconvert_exporter": "python",
   "pygments_lexer": "ipython3",
   "version": "3.9.13"
  },
  "orig_nbformat": 4,
  "vscode": {
   "interpreter": {
    "hash": "73116b792d4e7f4a2d42e6a2717bd01a40aff5b07001f93bde2c6f305f64c978"
   }
  }
 },
 "nbformat": 4,
 "nbformat_minor": 2
}
